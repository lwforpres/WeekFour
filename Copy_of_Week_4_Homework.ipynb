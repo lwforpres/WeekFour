{
  "nbformat": 4,
  "nbformat_minor": 0,
  "metadata": {
    "colab": {
      "provenance": [],
      "include_colab_link": true
    },
    "kernelspec": {
      "name": "python3",
      "display_name": "Python 3"
    },
    "language_info": {
      "name": "python"
    }
  },
  "cells": [
    {
      "cell_type": "markdown",
      "metadata": {
        "id": "view-in-github",
        "colab_type": "text"
      },
      "source": [
        "<a href=\"https://colab.research.google.com/github/lwforpres/WeekFour/blob/main/Copy_of_Week_4_Homework.ipynb\" target=\"_parent\"><img src=\"https://colab.research.google.com/assets/colab-badge.svg\" alt=\"Open In Colab\"/></a>"
      ]
    },
    {
      "cell_type": "markdown",
      "source": [
        "# Week 4 Homework\n",
        "\n",
        "(Be sure to copy to drive)\n",
        "\n",
        "I have put a lot different things in front of you during this course. Thanks for indulging me as I try to both impress you with what Python can do, and make the code readable.\n",
        "\n",
        "For homework this week, we are going to go real light."
      ],
      "metadata": {
        "id": "50-t19Lu90X9"
      }
    },
    {
      "cell_type": "markdown",
      "source": [
        "\n",
        "**H1** To bring what you learned in the week 4 warmup to life I'd like you to:\n",
        "\n",
        "- Create a GitHub repository\n",
        "- Save your week 1 homework in that GitHub Repository in the way described in the warmup\n",
        "- Share the URL to your repository in the cell below"
      ],
      "metadata": {
        "id": "AzHJ5fl7kBvq"
      }
    },
    {
      "cell_type": "code",
      "execution_count": 1,
      "metadata": {
        "id": "1TZumfR89ub9"
      },
      "outputs": [],
      "source": [
        "repository_url = \"\""
      ]
    },
    {
      "cell_type": "markdown",
      "source": [
        "\n",
        "**H1 Continued**\n",
        "\n",
        "You don't have to keep that repository forever, feel free to delete it after this class is done.\n"
      ],
      "metadata": {
        "id": "-LA8ID0nmKdM"
      }
    },
    {
      "cell_type": "markdown",
      "source": [
        "**H2** Starting in the week 3 homework we began an analysis on a collection of PDF files that you created. The week 4 workalong asked you to create PDF summaries for those same files.\n",
        "\n",
        "I'd just like to see what your final analysis looks like. Run the cells below to load up those csv files and to display them to the screen."
      ],
      "metadata": {
        "id": "jeUPc75jk4vL"
      }
    },
    {
      "cell_type": "code",
      "source": [
        "from google.colab import drive\n",
        "import pandas as pd\n",
        "\n",
        "#Because the summaries are big, I'm going to set no maximum column size in pandas so I see\n",
        "#the complete summary\n",
        "pd.set_option('display.max_colwidth', None)\n",
        "\n",
        "drive.mount('/content/gdrive')"
      ],
      "metadata": {
        "id": "oW7Tpyqule1s"
      },
      "execution_count": null,
      "outputs": []
    },
    {
      "cell_type": "markdown",
      "source": [
        "# PDF Summaries"
      ],
      "metadata": {
        "id": "HiC7h6_SuDOU"
      }
    },
    {
      "cell_type": "code",
      "source": [
        "pdf_summaries = pd.read_csv(\"/content/gdrive/MyDrive/LibraryJuicePython/adv_week4_pdf_summaries.csv\")\n",
        "pdf_summaries"
      ],
      "metadata": {
        "id": "iz7Po2O_odJ-"
      },
      "execution_count": null,
      "outputs": []
    },
    {
      "cell_type": "markdown",
      "source": [
        "#PDF Details"
      ],
      "metadata": {
        "id": "cw1ciq5cuFnd"
      }
    },
    {
      "cell_type": "code",
      "source": [
        "pdf_data = pd.read_csv(\"/content/gdrive/MyDrive/LibraryJuicePython/adv_week3_homework.csv\")\n",
        "pdf_data"
      ],
      "metadata": {
        "id": "6_z0z8lqogiK"
      },
      "execution_count": null,
      "outputs": []
    },
    {
      "cell_type": "markdown",
      "source": [
        "\n",
        "## All Done!\n",
        "\n",
        "Congrats you have finished Advanced Python for Librarians!\n",
        "\n",
        "Don't forget to click the `Share` button above and enter `libraryjuicepresspython@gmail.com` so I can get a shared copy of your work. Please also save this notebook as a PDF and upload it the Library Juice Academy LMS."
      ],
      "metadata": {
        "id": "L5Bk6jVK92fI"
      }
    }
  ]
}